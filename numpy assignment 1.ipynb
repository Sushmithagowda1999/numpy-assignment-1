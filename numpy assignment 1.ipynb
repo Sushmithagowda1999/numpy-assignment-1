{
 "cells": [
  {
   "cell_type": "markdown",
   "id": "9ce54e20",
   "metadata": {},
   "source": [
    "### 2. Create a vector with values ranging from 10 to 49."
   ]
  },
  {
   "cell_type": "code",
   "execution_count": 49,
   "id": "e599f843",
   "metadata": {},
   "outputs": [
    {
     "name": "stdout",
     "output_type": "stream",
     "text": [
      "original vector\n",
      "[10 11 12 13 14 15 16 17 18 19 20 21 22 23 24 25 26 27 28 29 30 31 32 33\n",
      " 34 35 36 37 38 39 40 41 42 43 44 45 46 47 48]\n"
     ]
    }
   ],
   "source": [
    "import numpy as np\n",
    "vector= np.arange(10,49)\n",
    "print(\"original vector\")\n",
    "print(vector)"
   ]
  },
  {
   "cell_type": "markdown",
   "id": "f74cba88",
   "metadata": {},
   "source": [
    "### 3. Create a 3x3 matrix with values ranging from 0 to 8"
   ]
  },
  {
   "cell_type": "code",
   "execution_count": 40,
   "id": "d6d718ab",
   "metadata": {},
   "outputs": [
    {
     "name": "stdout",
     "output_type": "stream",
     "text": [
      "\n",
      "3D Array : \n",
      " [[0 1 2]\n",
      " [3 4 5]\n",
      " [6 7 8]]\n"
     ]
    }
   ],
   "source": [
    "import numpy as np\n",
    "x = np.arange(0,9).reshape(3,3)\n",
    "print('\\n3D Array : \\n',x)\n"
   ]
  },
  {
   "cell_type": "markdown",
   "id": "2ddee226",
   "metadata": {},
   "source": [
    "### 4. Find indices of non-zero elements from [1,2,0,0,4,0]"
   ]
  },
  {
   "cell_type": "code",
   "execution_count": 41,
   "id": "de4d38ef",
   "metadata": {},
   "outputs": [
    {
     "data": {
      "text/plain": [
       "array([1, 2, 4])"
      ]
     },
     "execution_count": 41,
     "metadata": {},
     "output_type": "execute_result"
    }
   ],
   "source": [
    "q=np.array([1,2,0,0,4,0])\n",
    "q[q>0]"
   ]
  },
  {
   "cell_type": "markdown",
   "id": "492b7015",
   "metadata": {},
   "source": [
    "### 5. Create a 10x10 array with random values and find the minimum and maximum values."
   ]
  },
  {
   "cell_type": "code",
   "execution_count": 42,
   "id": "acc43bc5",
   "metadata": {},
   "outputs": [
    {
     "name": "stdout",
     "output_type": "stream",
     "text": [
      "[[51 33 39  3  5 54 54  6 16 16]\n",
      " [65  3  9 84 16 80 12 15  8 88]\n",
      " [ 9 25 96 90 13 99 63 74 24 27]\n",
      " [37 68 15 79 31 25  6 68 73 22]\n",
      " [43 28 11 51 92 92 39 63 92 25]\n",
      " [46  9 75  7 45  8 26  7 48 34]\n",
      " [ 9 18 47 58 95  7 45 22 87  5]\n",
      " [44 38 23 80 74 72 62 78 88 94]\n",
      " [83 84 31 69 36 16 76 34 40 24]\n",
      " [ 3 19 62 77 45 14 74 53 69 58]]\n",
      "minimum value is: 3\n",
      "maximum value is: 99\n"
     ]
    }
   ],
   "source": [
    "z=np.random.randint(1,100,(10,10))\n",
    "print(z)\n",
    "zmin,zmax=z.min(),z.max()\n",
    "print('minimum value is:',zmin)\n",
    "print('maximum value is:',zmax)"
   ]
  },
  {
   "cell_type": "markdown",
   "id": "dd3192db",
   "metadata": {},
   "source": [
    "### 6. Create a random vector of size 30 and find the mean value.\n"
   ]
  },
  {
   "cell_type": "code",
   "execution_count": 43,
   "id": "90f145f2",
   "metadata": {},
   "outputs": [
    {
     "name": "stdout",
     "output_type": "stream",
     "text": [
      "original array:\n",
      "[0.3302632  0.77710855 0.66563305 0.57888902 0.44160685 0.31084832\n",
      " 0.80540051 0.21746219 0.03942083 0.15942566 0.97708567 0.55714188\n",
      " 0.1983129  0.88192789 0.64462    0.91972208 0.07499067 0.58771147\n",
      " 0.86581994 0.75657695 0.41559113 0.25068917 0.16959589 0.65962035\n",
      " 0.13823637 0.86009354 0.11004988 0.28600362 0.60672288 0.76242631]\n",
      "mean value is: 0.5016332258794876\n"
     ]
    }
   ],
   "source": [
    "import numpy as np\n",
    "vector = np.random.random(30)\n",
    "print(\"original array:\")\n",
    "print(vector)\n",
    "print('mean value is:',np.mean(vector))\n"
   ]
  },
  {
   "cell_type": "markdown",
   "id": "7a36f126",
   "metadata": {},
   "source": [
    "### 1. Create a null vector of size 10 but the fifth value which is 1."
   ]
  },
  {
   "cell_type": "code",
   "execution_count": 48,
   "id": "6e3ff053",
   "metadata": {},
   "outputs": [
    {
     "data": {
      "text/plain": [
       "array([0., 0., 0., 0., 1., 0., 0., 0., 0., 0.])"
      ]
     },
     "execution_count": 48,
     "metadata": {},
     "output_type": "execute_result"
    }
   ],
   "source": [
    "import numpy as np\n",
    "x=np.zeros(10)\n",
    "x[4]=1\n",
    "x"
   ]
  },
  {
   "cell_type": "code",
   "execution_count": null,
   "id": "3a14709c",
   "metadata": {},
   "outputs": [],
   "source": []
  }
 ],
 "metadata": {
  "kernelspec": {
   "display_name": "Python 3",
   "language": "python",
   "name": "python3"
  },
  "language_info": {
   "codemirror_mode": {
    "name": "ipython",
    "version": 3
   },
   "file_extension": ".py",
   "mimetype": "text/x-python",
   "name": "python",
   "nbconvert_exporter": "python",
   "pygments_lexer": "ipython3",
   "version": "3.8.8"
  }
 },
 "nbformat": 4,
 "nbformat_minor": 5
}
